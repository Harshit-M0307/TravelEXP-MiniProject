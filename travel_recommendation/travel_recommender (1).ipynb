{
  "cells": [
    {
      "cell_type": "code",
      "execution_count": 1,
      "metadata": {
        "id": "pxiL70FSPvCO"
      },
      "outputs": [],
      "source": [
        "import pandas as pd\n",
        "from sklearn.feature_extraction.text import TfidfVectorizer\n",
        "from sklearn.metrics.pairwise import cosine_similarity"
      ]
    },
    {
      "cell_type": "code",
      "execution_count": null,
      "metadata": {
        "id": "gXTF92t5P4KI"
      },
      "outputs": [],
      "source": [
        "df = pd.read_csv('travel_recommendation/data/travel_data_up.csv')"
      ]
    },
    {
      "cell_type": "code",
      "execution_count": 12,
      "metadata": {
        "colab": {
          "base_uri": "https://localhost:8080/"
        },
        "id": "TMtyXudvQHtG",
        "outputId": "00dce851-45b8-4653-8bd2-6bb972568d0c"
      },
      "outputs": [
        {
          "data": {
            "text/plain": [
              "(15, 4)"
            ]
          },
          "execution_count": 12,
          "metadata": {},
          "output_type": "execute_result"
        }
      ],
      "source": [
        "df.shape"
      ]
    },
    {
      "cell_type": "code",
      "execution_count": 13,
      "metadata": {
        "id": "WgxaZqJZQJkl"
      },
      "outputs": [],
      "source": [
        "df['features'] = df['Type'] + \" \" + df['Description']"
      ]
    },
    {
      "cell_type": "code",
      "execution_count": 14,
      "metadata": {
        "id": "vLfU9LZfQO4_"
      },
      "outputs": [],
      "source": [
        "vectorizer = TfidfVectorizer(stop_words='english')\n",
        "tfidf_matrix = vectorizer.fit_transform(df['features'])"
      ]
    },
    {
      "cell_type": "code",
      "execution_count": 15,
      "metadata": {
        "id": "yUYWh5J0QRsl"
      },
      "outputs": [],
      "source": [
        "cosine_sim = cosine_similarity(tfidf_matrix, tfidf_matrix)"
      ]
    },
    {
      "cell_type": "code",
      "execution_count": 16,
      "metadata": {
        "id": "6KqZwiWYQTgE"
      },
      "outputs": [],
      "source": [
        "def recommend(destination_name, top_n=3):\n",
        "    if destination_name not in df['Destination'].values:\n",
        "        return \"Destination not found!\"\n",
        "\n",
        "    idx = df[df['Destination'] == destination_name].index[0]\n",
        "    scores = list(enumerate(cosine_sim[idx]))\n",
        "    scores = sorted(scores, key=lambda x: x[1], reverse=True)\n",
        "    scores = scores[1:top_n+1]\n",
        "\n",
        "    recommended = [df.iloc[i[0]]['Destination'] for i in scores]\n",
        "    return recommended\n"
      ]
    },
    {
      "cell_type": "code",
      "execution_count": 17,
      "metadata": {
        "colab": {
          "base_uri": "https://localhost:8080/"
        },
        "id": "e2YjGODXQYMB",
        "outputId": "faf77866-e9c9-4d91-9c1d-9fbf9f69e309"
      },
      "outputs": [
        {
          "name": "stdout",
          "output_type": "stream",
          "text": [
            "Recommendations for Bali:\n",
            "['Maldives', 'Goa', 'Phuket']\n"
          ]
        }
      ],
      "source": [
        "print(\"Recommendations for Bali:\")\n",
        "print(recommend(\"Bali\"))"
      ]
    },
    {
      "cell_type": "code",
      "execution_count": null,
      "metadata": {
        "id": "PcUoQCgeQa2e"
      },
      "outputs": [],
      "source": []
    }
  ],
  "metadata": {
    "colab": {
      "provenance": []
    },
    "kernelspec": {
      "display_name": "Python 3",
      "name": "python3"
    },
    "language_info": {
      "name": "python"
    }
  },
  "nbformat": 4,
  "nbformat_minor": 0
}
