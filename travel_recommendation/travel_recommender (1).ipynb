{
  "nbformat": 4,
  "nbformat_minor": 0,
  "metadata": {
    "colab": {
      "provenance": []
    },
    "kernelspec": {
      "name": "python3",
      "display_name": "Python 3"
    },
    "language_info": {
      "name": "python"
    }
  },
  "cells": [
    {
      "cell_type": "code",
      "execution_count": 1,
      "metadata": {
        "id": "pxiL70FSPvCO"
      },
      "outputs": [],
      "source": [
        "import pandas as pd\n",
        "from sklearn.feature_extraction.text import TfidfVectorizer\n",
        "from sklearn.metrics.pairwise import cosine_similarity"
      ]
    },
    {
      "cell_type": "code",
      "source": [
        "df = pd.read_csv('travel_data_up.csv')"
      ],
      "metadata": {
        "id": "gXTF92t5P4KI"
      },
      "execution_count": 11,
      "outputs": []
    },
    {
      "cell_type": "code",
      "source": [
        "df.shape"
      ],
      "metadata": {
        "colab": {
          "base_uri": "https://localhost:8080/"
        },
        "id": "TMtyXudvQHtG",
        "outputId": "00dce851-45b8-4653-8bd2-6bb972568d0c"
      },
      "execution_count": 12,
      "outputs": [
        {
          "output_type": "execute_result",
          "data": {
            "text/plain": [
              "(15, 4)"
            ]
          },
          "metadata": {},
          "execution_count": 12
        }
      ]
    },
    {
      "cell_type": "code",
      "source": [
        "df['features'] = df['Type'] + \" \" + df['Description']"
      ],
      "metadata": {
        "id": "WgxaZqJZQJkl"
      },
      "execution_count": 13,
      "outputs": []
    },
    {
      "cell_type": "code",
      "source": [
        "vectorizer = TfidfVectorizer(stop_words='english')\n",
        "tfidf_matrix = vectorizer.fit_transform(df['features'])"
      ],
      "metadata": {
        "id": "vLfU9LZfQO4_"
      },
      "execution_count": 14,
      "outputs": []
    },
    {
      "cell_type": "code",
      "source": [
        "cosine_sim = cosine_similarity(tfidf_matrix, tfidf_matrix)"
      ],
      "metadata": {
        "id": "yUYWh5J0QRsl"
      },
      "execution_count": 15,
      "outputs": []
    },
    {
      "cell_type": "code",
      "source": [
        "def recommend(destination_name, top_n=3):\n",
        "    if destination_name not in df['Destination'].values:\n",
        "        return \"Destination not found!\"\n",
        "\n",
        "    idx = df[df['Destination'] == destination_name].index[0]\n",
        "    scores = list(enumerate(cosine_sim[idx]))\n",
        "    scores = sorted(scores, key=lambda x: x[1], reverse=True)\n",
        "    scores = scores[1:top_n+1]\n",
        "\n",
        "    recommended = [df.iloc[i[0]]['Destination'] for i in scores]\n",
        "    return recommended\n"
      ],
      "metadata": {
        "id": "6KqZwiWYQTgE"
      },
      "execution_count": 16,
      "outputs": []
    },
    {
      "cell_type": "code",
      "source": [
        "print(\"Recommendations for Bali:\")\n",
        "print(recommend(\"Bali\"))"
      ],
      "metadata": {
        "colab": {
          "base_uri": "https://localhost:8080/"
        },
        "id": "e2YjGODXQYMB",
        "outputId": "faf77866-e9c9-4d91-9c1d-9fbf9f69e309"
      },
      "execution_count": 17,
      "outputs": [
        {
          "output_type": "stream",
          "name": "stdout",
          "text": [
            "Recommendations for Bali:\n",
            "['Maldives', 'Goa', 'Phuket']\n"
          ]
        }
      ]
    },
    {
      "cell_type": "code",
      "source": [],
      "metadata": {
        "id": "PcUoQCgeQa2e"
      },
      "execution_count": null,
      "outputs": []
    }
  ]
}